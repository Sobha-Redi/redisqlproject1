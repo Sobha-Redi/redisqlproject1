{
  "nbformat": 4,
  "nbformat_minor": 0,
  "metadata": {
    "colab": {
      "provenance": []
    },
    "kernelspec": {
      "name": "python3",
      "display_name": "Python 3"
    }
  },
  "cells": [
    {
      "cell_type": "markdown",
      "metadata": {
        "id": "jHXW5E0kZ38J"
      },
      "source": [
        "![Immoscout](https://raw.githubusercontent.com/juliandnl/redi_ss20/master/image.png)"
      ]
    },
    {
      "cell_type": "markdown",
      "source": [
        "# New Section"
      ],
      "metadata": {
        "id": "VN3cP8Ju20q4"
      }
    },
    {
      "cell_type": "markdown",
      "source": [
        "# Project - Immobilien Scout 24\n",
        "\n",
        "---\n",
        "## The description:\n",
        "Welcome to your first project! Have you heard about Immobilienscout 24?  [Immobilienscout 24](https://https://www.immobilienscout24.de/). It the biggest platform for renting appartments in Germany. The company hires data analysts and data scientists for analyzing the market data. They are especially interested in the Berlin market. The company wants to understand where to publish advertisment.\n",
        "\n",
        "---\n",
        " ## The dataset:\n",
        "The datasets contains information about rental appartments in Berlin.\n",
        "One row is for one appartment. The dataset contains 6 columns.  \n",
        "- Region: is the Berlin district, where the flat is located\n",
        "- Condition: is the condition of the flat\n",
        "- Rooms: The number of rooms the flat has\n",
        "- Rent: Monthly rent for the flat\n",
        "- Year_Construction: The year in which the house was build\n",
        "- Space: How many square meters does the flat have?\n",
        "\n",
        "---\n",
        "## The Task:\n",
        "1.  What kind of information do we have?\n",
        "2. In which conditions are the flats?\n",
        "3. Where are the appartments located?\n",
        "4. Where is the biggest and where is the smallest apartment?\n",
        "\n",
        "> Bonus Questions:\n",
        "5. What is the mean rent?\n",
        "\n"
      ],
      "metadata": {
        "id": "zlT4uzBd_ZDp"
      }
    },
    {
      "cell_type": "code",
      "source": [
        "# Please try to work on these tasks without using AI tools right away.\n",
        "# It's ok to use AI support when you get stuck - but please try to work on your own first, that's the best way to learn!\n",
        "\n",
        "# Please always copy the template colab file to your own drive (File -> Save a copy in Drive) and work on your copy, not on the template :)"
      ],
      "metadata": {
        "id": "68mofvf9A7ou"
      },
      "execution_count": null,
      "outputs": []
    },
    {
      "cell_type": "code",
      "source": [
        "# Imports\n",
        "import pandas as pd\n",
        "import numpy as np\n",
        "import matplotlib.pyplot as plt\n",
        "import seaborn as sns\n"
      ],
      "metadata": {
        "id": "kD3i6R4SBc5v"
      },
      "execution_count": null,
      "outputs": []
    },
    {
      "cell_type": "code",
      "source": [
        "# Read the dataset\n",
        "rentals = pd.read_csv(\"https://raw.githubusercontent.com/juliandnl/redi_ss20/master/berlin_rental.csv\")"
      ],
      "metadata": {
        "id": "EMz0CodiBelB"
      },
      "execution_count": null,
      "outputs": []
    },
    {
      "cell_type": "markdown",
      "metadata": {
        "id": "k2Gv9pEiU4Ao"
      },
      "source": [
        "# 1. What kind of information do we have?\n",
        "Do the following tasks:\n",
        "\n",
        "\n",
        "1. Use .shape, .info(), .describe(), .head()\n",
        "2. Select row with indexes 250:260 of column indexes 3 and 4\n",
        "3. Select row with indexes 252, 253, 257 of column indexes 1, 3, 5"
      ]
    },
    {
      "cell_type": "code",
      "source": [
        "rentals = pd.read_csv(\"https://raw.githubusercontent.com/juliandnl/redi_ss20/master/berlin_rental.csv\")\n",
        "rentals.shape\n",
        "rentals.info()\n",
        "rentals.describe()\n",
        "rentals.head()\n",
        "rentals.iloc[250:261,[3,4]]\n",
        "rentals.iloc[[252, 253, 257], [1, 3, 5]]\n"
      ],
      "metadata": {
        "id": "WoTqU8mIlVhW",
        "colab": {
          "base_uri": "https://localhost:8080/",
          "height": 369
        },
        "outputId": "837e0d9f-84f1-4904-e12a-1ba5be919a26"
      },
      "execution_count": null,
      "outputs": [
        {
          "output_type": "stream",
          "name": "stdout",
          "text": [
            "<class 'pandas.core.frame.DataFrame'>\n",
            "RangeIndex: 764 entries, 0 to 763\n",
            "Data columns (total 6 columns):\n",
            " #   Column             Non-Null Count  Dtype  \n",
            "---  ------             --------------  -----  \n",
            " 0   Region             764 non-null    object \n",
            " 1   Condition          764 non-null    object \n",
            " 2   Rooms              764 non-null    float64\n",
            " 3   Rent               764 non-null    float64\n",
            " 4   Year_Construction  764 non-null    int64  \n",
            " 5   Space              764 non-null    float64\n",
            "dtypes: float64(3), int64(1), object(2)\n",
            "memory usage: 35.9+ KB\n"
          ]
        },
        {
          "output_type": "execute_result",
          "data": {
            "text/plain": [
              "                              Condition     Rent   Space\n",
              "252  first_time_use_after_refurbishment  2346.00  117.30\n",
              "253                      first_time_use  1069.26   60.45\n",
              "257                      first_time_use  2250.00  118.37"
            ],
            "text/html": [
              "\n",
              "  <div id=\"df-5b309ebc-5e2f-46c9-ae2c-fc772b990315\" class=\"colab-df-container\">\n",
              "    <div>\n",
              "<style scoped>\n",
              "    .dataframe tbody tr th:only-of-type {\n",
              "        vertical-align: middle;\n",
              "    }\n",
              "\n",
              "    .dataframe tbody tr th {\n",
              "        vertical-align: top;\n",
              "    }\n",
              "\n",
              "    .dataframe thead th {\n",
              "        text-align: right;\n",
              "    }\n",
              "</style>\n",
              "<table border=\"1\" class=\"dataframe\">\n",
              "  <thead>\n",
              "    <tr style=\"text-align: right;\">\n",
              "      <th></th>\n",
              "      <th>Condition</th>\n",
              "      <th>Rent</th>\n",
              "      <th>Space</th>\n",
              "    </tr>\n",
              "  </thead>\n",
              "  <tbody>\n",
              "    <tr>\n",
              "      <th>252</th>\n",
              "      <td>first_time_use_after_refurbishment</td>\n",
              "      <td>2346.00</td>\n",
              "      <td>117.30</td>\n",
              "    </tr>\n",
              "    <tr>\n",
              "      <th>253</th>\n",
              "      <td>first_time_use</td>\n",
              "      <td>1069.26</td>\n",
              "      <td>60.45</td>\n",
              "    </tr>\n",
              "    <tr>\n",
              "      <th>257</th>\n",
              "      <td>first_time_use</td>\n",
              "      <td>2250.00</td>\n",
              "      <td>118.37</td>\n",
              "    </tr>\n",
              "  </tbody>\n",
              "</table>\n",
              "</div>\n",
              "    <div class=\"colab-df-buttons\">\n",
              "\n",
              "  <div class=\"colab-df-container\">\n",
              "    <button class=\"colab-df-convert\" onclick=\"convertToInteractive('df-5b309ebc-5e2f-46c9-ae2c-fc772b990315')\"\n",
              "            title=\"Convert this dataframe to an interactive table.\"\n",
              "            style=\"display:none;\">\n",
              "\n",
              "  <svg xmlns=\"http://www.w3.org/2000/svg\" height=\"24px\" viewBox=\"0 -960 960 960\">\n",
              "    <path d=\"M120-120v-720h720v720H120Zm60-500h600v-160H180v160Zm220 220h160v-160H400v160Zm0 220h160v-160H400v160ZM180-400h160v-160H180v160Zm440 0h160v-160H620v160ZM180-180h160v-160H180v160Zm440 0h160v-160H620v160Z\"/>\n",
              "  </svg>\n",
              "    </button>\n",
              "\n",
              "  <style>\n",
              "    .colab-df-container {\n",
              "      display:flex;\n",
              "      gap: 12px;\n",
              "    }\n",
              "\n",
              "    .colab-df-convert {\n",
              "      background-color: #E8F0FE;\n",
              "      border: none;\n",
              "      border-radius: 50%;\n",
              "      cursor: pointer;\n",
              "      display: none;\n",
              "      fill: #1967D2;\n",
              "      height: 32px;\n",
              "      padding: 0 0 0 0;\n",
              "      width: 32px;\n",
              "    }\n",
              "\n",
              "    .colab-df-convert:hover {\n",
              "      background-color: #E2EBFA;\n",
              "      box-shadow: 0px 1px 2px rgba(60, 64, 67, 0.3), 0px 1px 3px 1px rgba(60, 64, 67, 0.15);\n",
              "      fill: #174EA6;\n",
              "    }\n",
              "\n",
              "    .colab-df-buttons div {\n",
              "      margin-bottom: 4px;\n",
              "    }\n",
              "\n",
              "    [theme=dark] .colab-df-convert {\n",
              "      background-color: #3B4455;\n",
              "      fill: #D2E3FC;\n",
              "    }\n",
              "\n",
              "    [theme=dark] .colab-df-convert:hover {\n",
              "      background-color: #434B5C;\n",
              "      box-shadow: 0px 1px 3px 1px rgba(0, 0, 0, 0.15);\n",
              "      filter: drop-shadow(0px 1px 2px rgba(0, 0, 0, 0.3));\n",
              "      fill: #FFFFFF;\n",
              "    }\n",
              "  </style>\n",
              "\n",
              "    <script>\n",
              "      const buttonEl =\n",
              "        document.querySelector('#df-5b309ebc-5e2f-46c9-ae2c-fc772b990315 button.colab-df-convert');\n",
              "      buttonEl.style.display =\n",
              "        google.colab.kernel.accessAllowed ? 'block' : 'none';\n",
              "\n",
              "      async function convertToInteractive(key) {\n",
              "        const element = document.querySelector('#df-5b309ebc-5e2f-46c9-ae2c-fc772b990315');\n",
              "        const dataTable =\n",
              "          await google.colab.kernel.invokeFunction('convertToInteractive',\n",
              "                                                    [key], {});\n",
              "        if (!dataTable) return;\n",
              "\n",
              "        const docLinkHtml = 'Like what you see? Visit the ' +\n",
              "          '<a target=\"_blank\" href=https://colab.research.google.com/notebooks/data_table.ipynb>data table notebook</a>'\n",
              "          + ' to learn more about interactive tables.';\n",
              "        element.innerHTML = '';\n",
              "        dataTable['output_type'] = 'display_data';\n",
              "        await google.colab.output.renderOutput(dataTable, element);\n",
              "        const docLink = document.createElement('div');\n",
              "        docLink.innerHTML = docLinkHtml;\n",
              "        element.appendChild(docLink);\n",
              "      }\n",
              "    </script>\n",
              "  </div>\n",
              "\n",
              "\n",
              "<div id=\"df-c79f3b1b-8a27-4955-9a84-f97c242ac67b\">\n",
              "  <button class=\"colab-df-quickchart\" onclick=\"quickchart('df-c79f3b1b-8a27-4955-9a84-f97c242ac67b')\"\n",
              "            title=\"Suggest charts\"\n",
              "            style=\"display:none;\">\n",
              "\n",
              "<svg xmlns=\"http://www.w3.org/2000/svg\" height=\"24px\"viewBox=\"0 0 24 24\"\n",
              "     width=\"24px\">\n",
              "    <g>\n",
              "        <path d=\"M19 3H5c-1.1 0-2 .9-2 2v14c0 1.1.9 2 2 2h14c1.1 0 2-.9 2-2V5c0-1.1-.9-2-2-2zM9 17H7v-7h2v7zm4 0h-2V7h2v10zm4 0h-2v-4h2v4z\"/>\n",
              "    </g>\n",
              "</svg>\n",
              "  </button>\n",
              "\n",
              "<style>\n",
              "  .colab-df-quickchart {\n",
              "      --bg-color: #E8F0FE;\n",
              "      --fill-color: #1967D2;\n",
              "      --hover-bg-color: #E2EBFA;\n",
              "      --hover-fill-color: #174EA6;\n",
              "      --disabled-fill-color: #AAA;\n",
              "      --disabled-bg-color: #DDD;\n",
              "  }\n",
              "\n",
              "  [theme=dark] .colab-df-quickchart {\n",
              "      --bg-color: #3B4455;\n",
              "      --fill-color: #D2E3FC;\n",
              "      --hover-bg-color: #434B5C;\n",
              "      --hover-fill-color: #FFFFFF;\n",
              "      --disabled-bg-color: #3B4455;\n",
              "      --disabled-fill-color: #666;\n",
              "  }\n",
              "\n",
              "  .colab-df-quickchart {\n",
              "    background-color: var(--bg-color);\n",
              "    border: none;\n",
              "    border-radius: 50%;\n",
              "    cursor: pointer;\n",
              "    display: none;\n",
              "    fill: var(--fill-color);\n",
              "    height: 32px;\n",
              "    padding: 0;\n",
              "    width: 32px;\n",
              "  }\n",
              "\n",
              "  .colab-df-quickchart:hover {\n",
              "    background-color: var(--hover-bg-color);\n",
              "    box-shadow: 0 1px 2px rgba(60, 64, 67, 0.3), 0 1px 3px 1px rgba(60, 64, 67, 0.15);\n",
              "    fill: var(--button-hover-fill-color);\n",
              "  }\n",
              "\n",
              "  .colab-df-quickchart-complete:disabled,\n",
              "  .colab-df-quickchart-complete:disabled:hover {\n",
              "    background-color: var(--disabled-bg-color);\n",
              "    fill: var(--disabled-fill-color);\n",
              "    box-shadow: none;\n",
              "  }\n",
              "\n",
              "  .colab-df-spinner {\n",
              "    border: 2px solid var(--fill-color);\n",
              "    border-color: transparent;\n",
              "    border-bottom-color: var(--fill-color);\n",
              "    animation:\n",
              "      spin 1s steps(1) infinite;\n",
              "  }\n",
              "\n",
              "  @keyframes spin {\n",
              "    0% {\n",
              "      border-color: transparent;\n",
              "      border-bottom-color: var(--fill-color);\n",
              "      border-left-color: var(--fill-color);\n",
              "    }\n",
              "    20% {\n",
              "      border-color: transparent;\n",
              "      border-left-color: var(--fill-color);\n",
              "      border-top-color: var(--fill-color);\n",
              "    }\n",
              "    30% {\n",
              "      border-color: transparent;\n",
              "      border-left-color: var(--fill-color);\n",
              "      border-top-color: var(--fill-color);\n",
              "      border-right-color: var(--fill-color);\n",
              "    }\n",
              "    40% {\n",
              "      border-color: transparent;\n",
              "      border-right-color: var(--fill-color);\n",
              "      border-top-color: var(--fill-color);\n",
              "    }\n",
              "    60% {\n",
              "      border-color: transparent;\n",
              "      border-right-color: var(--fill-color);\n",
              "    }\n",
              "    80% {\n",
              "      border-color: transparent;\n",
              "      border-right-color: var(--fill-color);\n",
              "      border-bottom-color: var(--fill-color);\n",
              "    }\n",
              "    90% {\n",
              "      border-color: transparent;\n",
              "      border-bottom-color: var(--fill-color);\n",
              "    }\n",
              "  }\n",
              "</style>\n",
              "\n",
              "  <script>\n",
              "    async function quickchart(key) {\n",
              "      const quickchartButtonEl =\n",
              "        document.querySelector('#' + key + ' button');\n",
              "      quickchartButtonEl.disabled = true;  // To prevent multiple clicks.\n",
              "      quickchartButtonEl.classList.add('colab-df-spinner');\n",
              "      try {\n",
              "        const charts = await google.colab.kernel.invokeFunction(\n",
              "            'suggestCharts', [key], {});\n",
              "      } catch (error) {\n",
              "        console.error('Error during call to suggestCharts:', error);\n",
              "      }\n",
              "      quickchartButtonEl.classList.remove('colab-df-spinner');\n",
              "      quickchartButtonEl.classList.add('colab-df-quickchart-complete');\n",
              "    }\n",
              "    (() => {\n",
              "      let quickchartButtonEl =\n",
              "        document.querySelector('#df-c79f3b1b-8a27-4955-9a84-f97c242ac67b button');\n",
              "      quickchartButtonEl.style.display =\n",
              "        google.colab.kernel.accessAllowed ? 'block' : 'none';\n",
              "    })();\n",
              "  </script>\n",
              "</div>\n",
              "\n",
              "    </div>\n",
              "  </div>\n"
            ],
            "application/vnd.google.colaboratory.intrinsic+json": {
              "type": "dataframe",
              "summary": "{\n  \"name\": \"rentals\",\n  \"rows\": 3,\n  \"fields\": [\n    {\n      \"column\": \"Condition\",\n      \"properties\": {\n        \"dtype\": \"string\",\n        \"num_unique_values\": 2,\n        \"samples\": [\n          \"first_time_use\",\n          \"first_time_use_after_refurbishment\"\n        ],\n        \"semantic_type\": \"\",\n        \"description\": \"\"\n      }\n    },\n    {\n      \"column\": \"Rent\",\n      \"properties\": {\n        \"dtype\": \"number\",\n        \"std\": 711.0353923680592,\n        \"min\": 1069.26,\n        \"max\": 2346.0,\n        \"num_unique_values\": 3,\n        \"samples\": [\n          2346.0,\n          1069.26\n        ],\n        \"semantic_type\": \"\",\n        \"description\": \"\"\n      }\n    },\n    {\n      \"column\": \"Space\",\n      \"properties\": {\n        \"dtype\": \"number\",\n        \"std\": 33.135564478869725,\n        \"min\": 60.45,\n        \"max\": 118.37,\n        \"num_unique_values\": 3,\n        \"samples\": [\n          117.3,\n          60.45\n        ],\n        \"semantic_type\": \"\",\n        \"description\": \"\"\n      }\n    }\n  ]\n}"
            }
          },
          "metadata": {},
          "execution_count": 5
        }
      ]
    },
    {
      "cell_type": "markdown",
      "metadata": {
        "id": "FrujnQH60Wt3"
      },
      "source": [
        "# 2. In which conditions are the flats?"
      ]
    },
    {
      "cell_type": "markdown",
      "source": [
        "Most of the apartments are in first time use condition.\n",
        "There are also many apartments in mint, without information or well kept conditions.\n",
        "Only 4 apartments need renovation."
      ],
      "metadata": {
        "id": "azrJDk2L0pzy"
      }
    },
    {
      "cell_type": "code",
      "source": [
        "condition = rentals['Condition'].value_counts()\n",
        "print(condition)"
      ],
      "metadata": {
        "id": "cMlDOAj9lZWP",
        "colab": {
          "base_uri": "https://localhost:8080/"
        },
        "outputId": "9e7faf3f-1b95-4ff5-aa6b-feca47c8a173"
      },
      "execution_count": null,
      "outputs": [
        {
          "output_type": "stream",
          "name": "stdout",
          "text": [
            "Condition\n",
            "first_time_use                        270\n",
            "mint_condition                        143\n",
            "no_information                        111\n",
            "well_kept                              96\n",
            "refurbished                            40\n",
            "first_time_use_after_refurbishment     36\n",
            "fully_renovated                        35\n",
            "modernized                             29\n",
            "need_of_renovation                      4\n",
            "Name: count, dtype: int64\n"
          ]
        }
      ]
    },
    {
      "cell_type": "markdown",
      "metadata": {
        "id": "KwB1lNjx0YdA"
      },
      "source": [
        "# 3. Where are the appartments located?"
      ]
    },
    {
      "cell_type": "code",
      "source": [
        "location = rentals['Region']\n",
        "print(location)"
      ],
      "metadata": {
        "id": "YjEzVatzlbpk",
        "colab": {
          "base_uri": "https://localhost:8080/"
        },
        "outputId": "e57de7bd-7526-4237-dc5a-b7b26e8a7ed4"
      },
      "execution_count": null,
      "outputs": [
        {
          "output_type": "stream",
          "name": "stdout",
          "text": [
            "0            Mitte\n",
            "1        Kreuzberg\n",
            "2         Köpenick\n",
            "3      Wilmersdorf\n",
            "4        Kreuzberg\n",
            "          ...     \n",
            "759        Wedding\n",
            "760        Wedding\n",
            "761    Wilmersdorf\n",
            "762       Köpenick\n",
            "763       Neukölln\n",
            "Name: Region, Length: 764, dtype: object\n"
          ]
        }
      ]
    },
    {
      "cell_type": "markdown",
      "metadata": {
        "id": "L04Y5VTSpXIL"
      },
      "source": [
        "# 4. Where is the biggest and the smallest apartment?"
      ]
    },
    {
      "cell_type": "markdown",
      "source": [
        "Remember that you have the methods .mix() and .max() at your disposal."
      ],
      "metadata": {
        "id": "uC39p9FyPcp1"
      }
    },
    {
      "cell_type": "code",
      "source": [
        "biggest_apt = rentals['Space'].max()\n",
        "smallest_apt = rentals['Space'].min()\n",
        "biggest_apt_location = rentals[rentals['Space'] == biggest_apt]\n",
        "smallest_apt_location = rentals[rentals['Space'] == smallest_apt]\n",
        "print(biggest_apt_location)\n",
        "print(smallest_apt_location)\n"
      ],
      "metadata": {
        "id": "6ZRiX5JaiYOr",
        "colab": {
          "base_uri": "https://localhost:8080/"
        },
        "outputId": "4299257f-4c57-484d-de0e-c843b7fbb8f1"
      },
      "execution_count": null,
      "outputs": [
        {
          "output_type": "stream",
          "name": "stdout",
          "text": [
            "    Region       Condition  Rooms     Rent  Year_Construction   Space\n",
            "694  Mitte  mint_condition    5.0  14207.0               2015  413.91\n",
            "      Region  Condition  Rooms   Rent  Year_Construction  Space\n",
            "84  Neukölln  well_kept    1.0  450.0               1910   14.0\n"
          ]
        }
      ]
    },
    {
      "cell_type": "markdown",
      "metadata": {
        "id": "pWtdIHKbqq7R"
      },
      "source": [
        "# BONUS  What is the mean rent?\n",
        "Have a look at:\n",
        "- https://stackoverflow.com/questions/31037298/pandas-get-column-average-mean\n",
        "- https://pandas.pydata.org/pandas-docs/stable/reference/api/pandas.DataFrame.mean.html"
      ]
    },
    {
      "cell_type": "code",
      "source": [
        "mean_rent = rentals['Rent'].mean()\n",
        "print(mean_rent)\n"
      ],
      "metadata": {
        "id": "k5nhPZnElz9Y",
        "colab": {
          "base_uri": "https://localhost:8080/"
        },
        "outputId": "d96065c1-c1d0-4efd-8a05-87bfda540466"
      },
      "execution_count": null,
      "outputs": [
        {
          "output_type": "stream",
          "name": "stdout",
          "text": [
            "1768.560942408377\n"
          ]
        }
      ]
    },
    {
      "cell_type": "markdown",
      "source": [
        "<h2>Review Criteria:<h2>\n",
        "\n",
        "<h3><input type=\"checkbox\"> 1. Are all questions answered? <br></h3>\n",
        "<h3><input type=\"checkbox\"> 2. Does all code run through? <br></h3>\n",
        "<h3><input type=\"checkbox\"> 3. Are the conclusions understandable?  <br></h3>\n",
        "<h3><input type=\"checkbox\"> 4. Are the bonus question answered?  <br></h3>\n",
        "\n"
      ],
      "metadata": {
        "id": "H9FF9eQul6EZ"
      }
    }
  ]
}